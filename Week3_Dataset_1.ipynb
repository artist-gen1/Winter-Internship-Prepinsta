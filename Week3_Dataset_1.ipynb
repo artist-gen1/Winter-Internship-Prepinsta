{
  "nbformat": 4,
  "nbformat_minor": 0,
  "metadata": {
    "colab": {
      "provenance": []
    },
    "kernelspec": {
      "name": "python3",
      "display_name": "Python 3"
    },
    "language_info": {
      "name": "python"
    }
  },
  "cells": [
    {
      "cell_type": "markdown",
      "source": [
        "By: Anuj Kothiyal"
      ],
      "metadata": {
        "id": "20cX2ieTEI6v"
      }
    },
    {
      "cell_type": "code",
      "source": [
        "# Importing Libraries\n",
        "\n",
        "import numpy as np\n",
        "import pandas as pd"
      ],
      "metadata": {
        "id": "0M7OJjSfEap_"
      },
      "execution_count": 2,
      "outputs": []
    },
    {
      "cell_type": "code",
      "source": [
        "# Reading csv file\n",
        "\n",
        "data = pd.read_csv(\"/content/Data-cleaning-for-beginners-using-pandas.csv\")\n",
        "print(data)"
      ],
      "metadata": {
        "colab": {
          "base_uri": "https://localhost:8080/"
        },
        "id": "93uph_PUEpoE",
        "outputId": "5153e46a-f714-4414-8994-cbb3a8289a11"
      },
      "execution_count": 3,
      "outputs": [
        {
          "output_type": "stream",
          "name": "stdout",
          "text": [
            "    Index   Age      Salary  Rating       Location  Established Easy Apply\n",
            "0       0  44.0   $44k-$99k     5.4       India,In         1999       TRUE\n",
            "1       1  66.0   $55k-$66k     3.5    New York,Ny         2002       TRUE\n",
            "2       2   NaN   $77k-$89k    -1.0    New York,Ny           -1         -1\n",
            "3       3  64.0   $44k-$99k     4.4       India In         1988         -1\n",
            "4       4  25.0   $44k-$99k     6.4  Australia Aus         2002         -1\n",
            "5       5  44.0   $77k-$89k     1.4       India,In         1999       TRUE\n",
            "6       6  21.0   $44k-$99k     0.0    New York,Ny           -1         -1\n",
            "7       7  44.0   $44k-$99k    -1.0  Australia Aus           -1         -1\n",
            "8       8  35.0   $44k-$99k     5.4    New York,Ny           -1         -1\n",
            "9       9  22.0   $44k-$99k     7.7       India,In           -1       TRUE\n",
            "10     10  55.0   $10k-$49k     5.4       India,In         2008       TRUE\n",
            "11     11  44.0   $10k-$49k     6.7       India,In         2009         -1\n",
            "12     12   NaN   $44k-$99k     0.0       India,In         1999         -1\n",
            "13     13  25.0   $44k-$99k    -1.0  Australia Aus         2019       TRUE\n",
            "14     14  66.0   $44k-$99k     4.0  Australia Aus         2020       TRUE\n",
            "15     15  44.0  $88k-$101k     3.0  Australia Aus         1999         -1\n",
            "16     16  19.0   $19k-$40k     4.5       India,In         1984         -1\n",
            "17     17   NaN   $44k-$99k     5.3    New York,Ny         1943       TRUE\n",
            "18     18  35.0   $44k-$99k     6.7    New York,Ny         1954       TRUE\n",
            "19     19  32.0   $44k-$99k     3.3    New York,Ny         1955       TRUE\n",
            "20     20   NaN   $44k-$99k     5.7    New York,Ny         1944       TRUE\n",
            "21     21  35.0   $44k-$99k     5.0    New York,Ny         1946         -1\n",
            "22     22  19.0   $55k-$66k     7.8    New York,Ny         1988       TRUE\n",
            "23     23   NaN   $44k-$99k     2.4    New York,Ny         1999       TRUE\n",
            "24     24  13.0   $44k-$99k    -1.0    New York,Ny         1987         -1\n",
            "25     25  55.0   $44k-$99k     0.0  Australia Aus         1980       TRUE\n",
            "26     26   NaN   $55k-$66k     NaN       India,In         1934       TRUE\n",
            "27     27  52.0   $44k-$99k     5.4       India,In         1935         -1\n",
            "28     28   NaN   $39k-$88k     3.4  Australia Aus         1932         -1\n"
          ]
        }
      ]
    },
    {
      "cell_type": "code",
      "source": [
        "# Make a copy of all the data in a variable, so as to avoid data loss in the original file\n",
        "df = data.copy()\n"
      ],
      "metadata": {
        "id": "dfhWjzFaLK2u"
      },
      "execution_count": 4,
      "outputs": []
    },
    {
      "cell_type": "markdown",
      "source": [
        "**Question:1 Missing Values**\n",
        "\n",
        "Are there any missing values in the dataset, and if so, how should they be handled for each indicator?"
      ],
      "metadata": {
        "id": "Dk_kihxsJxR2"
      }
    },
    {
      "cell_type": "code",
      "source": [
        "data.isnull().sum()"
      ],
      "metadata": {
        "id": "Opo5Iz8ZKYsO",
        "colab": {
          "base_uri": "https://localhost:8080/"
        },
        "outputId": "64f8d485-021a-4aa5-91e8-9122e2612ffc"
      },
      "execution_count": 5,
      "outputs": [
        {
          "output_type": "execute_result",
          "data": {
            "text/plain": [
              "Index          0\n",
              "Age            7\n",
              "Salary         0\n",
              "Rating         1\n",
              "Location       0\n",
              "Established    0\n",
              "Easy Apply     0\n",
              "dtype: int64"
            ]
          },
          "metadata": {},
          "execution_count": 5
        }
      ]
    },
    {
      "cell_type": "markdown",
      "source": [
        "Here age is having 7 null values and rating is having 1 null value."
      ],
      "metadata": {
        "id": "qjEDlwnVKqEJ"
      }
    },
    {
      "cell_type": "code",
      "source": [
        " # Now fill null values of age with mean as it will not affect the pattern that much\n",
        "\n",
        " mean_age = df.Age.mean().round(decimals = 1)\n",
        "df.Age = df.Age.fillna(mean_age)\n",
        " print(df.Age)"
      ],
      "metadata": {
        "id": "I_Mox7P7KwaB",
        "colab": {
          "base_uri": "https://localhost:8080/"
        },
        "outputId": "13f9b727-8f42-4d1b-ddda-1e3d937d3eaf"
      },
      "execution_count": 6,
      "outputs": [
        {
          "output_type": "stream",
          "name": "stdout",
          "text": [
            "0     44.0\n",
            "1     66.0\n",
            "2     39.0\n",
            "3     64.0\n",
            "4     25.0\n",
            "5     44.0\n",
            "6     21.0\n",
            "7     44.0\n",
            "8     35.0\n",
            "9     22.0\n",
            "10    55.0\n",
            "11    44.0\n",
            "12    39.0\n",
            "13    25.0\n",
            "14    66.0\n",
            "15    44.0\n",
            "16    19.0\n",
            "17    39.0\n",
            "18    35.0\n",
            "19    32.0\n",
            "20    39.0\n",
            "21    35.0\n",
            "22    19.0\n",
            "23    39.0\n",
            "24    13.0\n",
            "25    55.0\n",
            "26    39.0\n",
            "27    52.0\n",
            "28    39.0\n",
            "Name: Age, dtype: float64\n"
          ]
        }
      ]
    },
    {
      "cell_type": "code",
      "source": [
        "# Now fill the null values for rating with mean, as it will not affect the rating pattern that much\n",
        "\n",
        "mean_rating = df.Rating.mean().round(decimals = 1)\n",
        "df.Rating = df.Rating.fillna(mean_rating)\n",
        "print(df.Rating)"
      ],
      "metadata": {
        "id": "ZqNaFpzqN2U6",
        "colab": {
          "base_uri": "https://localhost:8080/"
        },
        "outputId": "f51c7231-0caf-4900-ea70-83e3eeeb3733"
      },
      "execution_count": 7,
      "outputs": [
        {
          "output_type": "stream",
          "name": "stdout",
          "text": [
            "0     5.4\n",
            "1     3.5\n",
            "2    -1.0\n",
            "3     4.4\n",
            "4     6.4\n",
            "5     1.4\n",
            "6     0.0\n",
            "7    -1.0\n",
            "8     5.4\n",
            "9     7.7\n",
            "10    5.4\n",
            "11    6.7\n",
            "12    0.0\n",
            "13   -1.0\n",
            "14    4.0\n",
            "15    3.0\n",
            "16    4.5\n",
            "17    5.3\n",
            "18    6.7\n",
            "19    3.3\n",
            "20    5.7\n",
            "21    5.0\n",
            "22    7.8\n",
            "23    2.4\n",
            "24   -1.0\n",
            "25    0.0\n",
            "26    3.5\n",
            "27    5.4\n",
            "28    3.4\n",
            "Name: Rating, dtype: float64\n"
          ]
        }
      ]
    },
    {
      "cell_type": "markdown",
      "source": [
        "**Question:2 Data Types**\n",
        "\n",
        "What are the data types of each indicator, and do they align with their expected types (e.g., numerical, categorical)?"
      ],
      "metadata": {
        "id": "bxF0JyohPbNZ"
      }
    },
    {
      "cell_type": "code",
      "source": [
        "# Check data types of each indicator\n",
        "\n",
        "print(df.dtypes)"
      ],
      "metadata": {
        "id": "g_vpVmr7P4xq",
        "colab": {
          "base_uri": "https://localhost:8080/"
        },
        "outputId": "de64a112-4e3b-476d-9561-a90683238559"
      },
      "execution_count": 8,
      "outputs": [
        {
          "output_type": "stream",
          "name": "stdout",
          "text": [
            "Index            int64\n",
            "Age            float64\n",
            "Salary          object\n",
            "Rating         float64\n",
            "Location        object\n",
            "Established      int64\n",
            "Easy Apply      object\n",
            "dtype: object\n"
          ]
        }
      ]
    },
    {
      "cell_type": "code",
      "source": [
        "# Now if data type is float64 or int64 print numerical\n",
        "# Or if data type is object print catogorical\n",
        "\n",
        "data_types = df.dtypes\n",
        "\n",
        "for column, dtype in data_types.items():\n",
        "  print(f\"{column}: {dtype}\")\n",
        "  if df[column].dtype == 'int64' or df[column].dtype == 'float64':\n",
        "    print(f\"Expected Type: Numerical\\n\")\n",
        "  elif df[column].dtype == 'object':\n",
        "    print(f\"Expected Type: Categorical\\n\")"
      ],
      "metadata": {
        "id": "86oCbx43RfDq",
        "colab": {
          "base_uri": "https://localhost:8080/"
        },
        "outputId": "4eff6843-0bcf-4d9f-800b-4d4391b69314"
      },
      "execution_count": 9,
      "outputs": [
        {
          "output_type": "stream",
          "name": "stdout",
          "text": [
            "Index: int64\n",
            "Expected Type: Numerical\n",
            "\n",
            "Age: float64\n",
            "Expected Type: Numerical\n",
            "\n",
            "Salary: object\n",
            "Expected Type: Categorical\n",
            "\n",
            "Rating: float64\n",
            "Expected Type: Numerical\n",
            "\n",
            "Location: object\n",
            "Expected Type: Categorical\n",
            "\n",
            "Established: int64\n",
            "Expected Type: Numerical\n",
            "\n",
            "Easy Apply: object\n",
            "Expected Type: Categorical\n",
            "\n"
          ]
        }
      ]
    },
    {
      "cell_type": "markdown",
      "source": [
        "(Question:4 should be done in order to solve Question:3)\n",
        "\n",
        "**Question:4 Salary Formatting**\n",
        "\n",
        "Examine the format of the Salary column. Does it require any formatting or standardization for consistent analysis?"
      ],
      "metadata": {
        "id": "WWSxkrKgUf12"
      }
    },
    {
      "cell_type": "code",
      "source": [
        "# Yes, Salary column needs to be formatted/standardized for consistent analysis\n",
        "# We should remove symbols like '$', 'k', and should also put 1000 times while replacing 'k'\n",
        "\n",
        "replace_dict = {'\\$':\"\",'k':\"000\"}\n",
        "salary_range = df.Salary.replace(replace_dict, regex = True)\n",
        "df.Salary = salary_range\n",
        "print(df.Salary)"
      ],
      "metadata": {
        "id": "RlynflUcU_IM",
        "colab": {
          "base_uri": "https://localhost:8080/"
        },
        "outputId": "d478feb5-baf4-404f-c53e-3909368c9847"
      },
      "execution_count": 10,
      "outputs": [
        {
          "output_type": "stream",
          "name": "stdout",
          "text": [
            "0      44000-99000\n",
            "1      55000-66000\n",
            "2      77000-89000\n",
            "3      44000-99000\n",
            "4      44000-99000\n",
            "5      77000-89000\n",
            "6      44000-99000\n",
            "7      44000-99000\n",
            "8      44000-99000\n",
            "9      44000-99000\n",
            "10     10000-49000\n",
            "11     10000-49000\n",
            "12     44000-99000\n",
            "13     44000-99000\n",
            "14     44000-99000\n",
            "15    88000-101000\n",
            "16     19000-40000\n",
            "17     44000-99000\n",
            "18     44000-99000\n",
            "19     44000-99000\n",
            "20     44000-99000\n",
            "21     44000-99000\n",
            "22     55000-66000\n",
            "23     44000-99000\n",
            "24     44000-99000\n",
            "25     44000-99000\n",
            "26     55000-66000\n",
            "27     44000-99000\n",
            "28     39000-88000\n",
            "Name: Salary, dtype: object\n"
          ]
        }
      ]
    },
    {
      "cell_type": "markdown",
      "source": [
        "**Question:3 Outliers**\n",
        "\n",
        "Identify potential outliers in numerical indicators (e.g., Age, Salary, Rating).\n",
        "\n",
        "Should outliers be removed or adjusted?"
      ],
      "metadata": {
        "id": "rOjB6JucuaiH"
      }
    },
    {
      "cell_type": "code",
      "source": [
        "# To find potensial outliers we should firstly find the values which do not fall under the IQR (Inter Quartile Range)\n",
        "\n",
        "# For Age Column\n",
        "\n",
        "df['Salary_mean'] = df.Salary.apply(lambda x: sum(map(int, x.split('-')))/2)\n",
        "\n",
        "df['Salary_mean'].astype(float)\n",
        "\n",
        "Q1 = df[['Age', 'Salary', 'Rating']].quantile(0.25)\n",
        "Q3 = df[['Age', 'Salary_mean', 'Rating']].quantile(0.75)\n",
        "\n",
        "IQR = Q3 - Q1\n",
        "\n",
        "lower_threshold = Q1 - 1.5 * IQR\n",
        "upper_threshold = Q3 + 1.5 * IQR\n",
        "\n",
        "potential_outliers = df[\n",
        "    (df['Age'] < lower_threshold['Age']) | (df['Age'] > upper_threshold['Age']) |\n",
        "    (df['Salary'] < lower_threshold['Salary_mean']) | (df['Salary_mean'] > upper_threshold['Salary_mean']) |\n",
        "    (df['Rating'] < lower_threshold['Rating']) | (df['Rating'] > upper_threshold['Rating'])\n",
        "]\n",
        "\n",
        "print(lower_threshold.Rating)\n",
        "print(potential_outliers)"
      ],
      "metadata": {
        "id": "M5hJpYb8yBPt",
        "colab": {
          "base_uri": "https://localhost:8080/"
        },
        "outputId": "221b4b95-4d1b-4524-a8c2-5a0d115ceac2"
      },
      "execution_count": 11,
      "outputs": [
        {
          "output_type": "stream",
          "name": "stdout",
          "text": [
            "-4.6\n",
            "    Index   Age       Salary  Rating       Location  Established Easy Apply  \\\n",
            "1       1  66.0  55000-66000     3.5    New York,Ny         2002       TRUE   \n",
            "3       3  64.0  44000-99000     4.4       India In         1988         -1   \n",
            "14     14  66.0  44000-99000     4.0  Australia Aus         2020       TRUE   \n",
            "24     24  13.0  44000-99000    -1.0    New York,Ny         1987         -1   \n",
            "\n",
            "    Salary_mean  \n",
            "1       60500.0  \n",
            "3       71500.0  \n",
            "14      71500.0  \n",
            "24      71500.0  \n"
          ]
        },
        {
          "output_type": "stream",
          "name": "stderr",
          "text": [
            "<ipython-input-11-bf88a105ef37>:9: FutureWarning: The default value of numeric_only in DataFrame.quantile is deprecated. In a future version, it will default to False. Select only valid columns or specify the value of numeric_only to silence this warning.\n",
            "  Q1 = df[['Age', 'Salary', 'Rating']].quantile(0.25)\n"
          ]
        }
      ]
    },
    {
      "cell_type": "markdown",
      "source": [
        "**Question:5 Location Standardization**\n",
        "\n",
        "Check the consistency of location entries. Do they need standardization, and how can this be achieved?"
      ],
      "metadata": {
        "id": "2F3wNlsvLbu_"
      }
    },
    {
      "cell_type": "code",
      "source": [
        "# Location names should not contain short forms, for analysis the complete names of locations should be beneficial/standardized\n",
        "\n",
        "# Removing everything after comma ',' and ' ' from all values and also check for New York since it has space\n",
        "\n",
        "df['Location'] = df['Location'].apply(lambda x: x.split(',')[0] if 'New York' in x else x.split(',')[0].split(' ')[0])\n",
        "df['Location']"
      ],
      "metadata": {
        "id": "ckVgo3smLrnf",
        "colab": {
          "base_uri": "https://localhost:8080/"
        },
        "outputId": "942e0aac-b400-48d5-e411-86cb96bea585"
      },
      "execution_count": 25,
      "outputs": [
        {
          "output_type": "execute_result",
          "data": {
            "text/plain": [
              "0         India\n",
              "1      New York\n",
              "2      New York\n",
              "3         India\n",
              "4     Australia\n",
              "5         India\n",
              "6      New York\n",
              "7     Australia\n",
              "8      New York\n",
              "9         India\n",
              "10        India\n",
              "11        India\n",
              "12        India\n",
              "13    Australia\n",
              "14    Australia\n",
              "15    Australia\n",
              "16        India\n",
              "17     New York\n",
              "18     New York\n",
              "19     New York\n",
              "20     New York\n",
              "21     New York\n",
              "22     New York\n",
              "23     New York\n",
              "24     New York\n",
              "25    Australia\n",
              "26        India\n",
              "27        India\n",
              "28    Australia\n",
              "Name: Location, dtype: object"
            ]
          },
          "metadata": {},
          "execution_count": 25
        }
      ]
    },
    {
      "cell_type": "markdown",
      "source": [
        "**Question:6 Established Column**\n",
        "\n",
        "Explore the Established column. Are there any inconsistencies or anomalies that need to be addressed?"
      ],
      "metadata": {
        "id": "MF4yntapJWTL"
      }
    },
    {
      "cell_type": "code",
      "source": [
        "# There are multiple values where Establishment Year is mentioned as -1, so we can't ignore them we should fill Unknown in place of -1\n",
        "\n",
        "df.loc[df['Established'] == -1, 'Established'] = \"Unknown\"\n",
        "df.Established"
      ],
      "metadata": {
        "colab": {
          "base_uri": "https://localhost:8080/"
        },
        "id": "M3VGqJJGJ3xZ",
        "outputId": "b2f3d958-b682-40ae-d539-a5c9662d2444"
      },
      "execution_count": 38,
      "outputs": [
        {
          "output_type": "execute_result",
          "data": {
            "text/plain": [
              "0        1999\n",
              "1        2002\n",
              "2     Unknown\n",
              "3        1988\n",
              "4        2002\n",
              "5        1999\n",
              "6     Unknown\n",
              "7     Unknown\n",
              "8     Unknown\n",
              "9     Unknown\n",
              "10       2008\n",
              "11       2009\n",
              "12       1999\n",
              "13       2019\n",
              "14       2020\n",
              "15       1999\n",
              "16       1984\n",
              "17       1943\n",
              "18       1954\n",
              "19       1955\n",
              "20       1944\n",
              "21       1946\n",
              "22       1988\n",
              "23       1999\n",
              "24       1987\n",
              "25       1980\n",
              "26       1934\n",
              "27       1935\n",
              "28       1932\n",
              "Name: Established, dtype: object"
            ]
          },
          "metadata": {},
          "execution_count": 38
        }
      ]
    },
    {
      "cell_type": "markdown",
      "source": [
        "**Question:7 Easy Apply Indicator**\n",
        "\n",
        "Analyze the Easy Apply column. Does it contain boolean values or need transformation for better analysis?"
      ],
      "metadata": {
        "id": "I9zB7wjHM9-N"
      }
    },
    {
      "cell_type": "code",
      "source": [
        "print(df['Easy Apply'])"
      ],
      "metadata": {
        "colab": {
          "base_uri": "https://localhost:8080/"
        },
        "id": "iisZH62WMnCZ",
        "outputId": "35b488f6-5565-4714-9bb3-81ec37bc9f90"
      },
      "execution_count": 40,
      "outputs": [
        {
          "output_type": "stream",
          "name": "stdout",
          "text": [
            "0     TRUE\n",
            "1     TRUE\n",
            "2       -1\n",
            "3       -1\n",
            "4       -1\n",
            "5     TRUE\n",
            "6       -1\n",
            "7       -1\n",
            "8       -1\n",
            "9     TRUE\n",
            "10    TRUE\n",
            "11      -1\n",
            "12      -1\n",
            "13    TRUE\n",
            "14    TRUE\n",
            "15      -1\n",
            "16      -1\n",
            "17    TRUE\n",
            "18    TRUE\n",
            "19    TRUE\n",
            "20    TRUE\n",
            "21      -1\n",
            "22    TRUE\n",
            "23    TRUE\n",
            "24      -1\n",
            "25    TRUE\n",
            "26    TRUE\n",
            "27      -1\n",
            "28      -1\n",
            "Name: Easy Apply, dtype: object\n"
          ]
        }
      ]
    },
    {
      "cell_type": "code",
      "source": [
        "# Since the values are either true or -1, so here -1 should represent false values\n",
        "# We should replace -1 with false to make data more consistent\n",
        "\n",
        "df.loc[df['Easy Apply'] == \"-1\", 'Easy Apply'] = \"False\"\n",
        "df[\"Easy Apply\"]"
      ],
      "metadata": {
        "colab": {
          "base_uri": "https://localhost:8080/"
        },
        "id": "uOE8QyCoNk8C",
        "outputId": "5d9b1d6d-1a2f-4f1a-eb6c-b3d4f565762d"
      },
      "execution_count": 46,
      "outputs": [
        {
          "output_type": "execute_result",
          "data": {
            "text/plain": [
              "0      TRUE\n",
              "1      TRUE\n",
              "2     False\n",
              "3     False\n",
              "4     False\n",
              "5      TRUE\n",
              "6     False\n",
              "7     False\n",
              "8     False\n",
              "9      TRUE\n",
              "10     TRUE\n",
              "11    False\n",
              "12    False\n",
              "13     TRUE\n",
              "14     TRUE\n",
              "15    False\n",
              "16    False\n",
              "17     TRUE\n",
              "18     TRUE\n",
              "19     TRUE\n",
              "20     TRUE\n",
              "21    False\n",
              "22     TRUE\n",
              "23     TRUE\n",
              "24    False\n",
              "25     TRUE\n",
              "26     TRUE\n",
              "27    False\n",
              "28    False\n",
              "Name: Easy Apply, dtype: object"
            ]
          },
          "metadata": {},
          "execution_count": 46
        }
      ]
    },
    {
      "cell_type": "markdown",
      "source": [
        "**Question:8 Rating Range**\n",
        "\n",
        "Investigate the range of values in the Rating column. Does it fall within expected rating scales, and how should outliers be treated?"
      ],
      "metadata": {
        "id": "UIwswdcaP0cI"
      }
    },
    {
      "cell_type": "code",
      "source": [
        "# Since, rating is having values in decimals and some values are -1 too, so we can roundoff these decimals to integers and also add 1 to each rating\n",
        "# Now, the rating is in a range of 0 to 10 which is consistent\n",
        "\n",
        "df.Rating = df.Rating.round().astype(int)+1\n",
        "print(df.Rating)"
      ],
      "metadata": {
        "colab": {
          "base_uri": "https://localhost:8080/"
        },
        "id": "tXlVbmn7P_4B",
        "outputId": "15659fcd-9048-4194-a161-4ec97b4a75eb"
      },
      "execution_count": 59,
      "outputs": [
        {
          "output_type": "stream",
          "name": "stdout",
          "text": [
            "0     6\n",
            "1     5\n",
            "2     0\n",
            "3     5\n",
            "4     7\n",
            "5     2\n",
            "6     1\n",
            "7     0\n",
            "8     6\n",
            "9     9\n",
            "10    6\n",
            "11    8\n",
            "12    1\n",
            "13    0\n",
            "14    5\n",
            "15    4\n",
            "16    5\n",
            "17    6\n",
            "18    8\n",
            "19    4\n",
            "20    7\n",
            "21    6\n",
            "22    9\n",
            "23    3\n",
            "24    0\n",
            "25    1\n",
            "26    5\n",
            "27    6\n",
            "28    4\n",
            "Name: Rating, dtype: int64\n"
          ]
        }
      ]
    },
    {
      "cell_type": "markdown",
      "source": [
        "**Question:9 Age Distribution**\n",
        "\n",
        "Check the distribution of values in the Age column. Are there any unusual entries, and how might they impact analysis?"
      ],
      "metadata": {
        "id": "0yM6TEJTUZzu"
      }
    },
    {
      "cell_type": "code",
      "source": [
        "# Age values are already cleaned in Question:1\n",
        "\n",
        "print(df.Age)"
      ],
      "metadata": {
        "colab": {
          "base_uri": "https://localhost:8080/"
        },
        "id": "GyeqisSBUjR8",
        "outputId": "d5188a60-672c-4526-e120-189106de22ac"
      },
      "execution_count": 61,
      "outputs": [
        {
          "output_type": "stream",
          "name": "stdout",
          "text": [
            "0     44.0\n",
            "1     66.0\n",
            "2     39.0\n",
            "3     64.0\n",
            "4     25.0\n",
            "5     44.0\n",
            "6     21.0\n",
            "7     44.0\n",
            "8     35.0\n",
            "9     22.0\n",
            "10    55.0\n",
            "11    44.0\n",
            "12    39.0\n",
            "13    25.0\n",
            "14    66.0\n",
            "15    44.0\n",
            "16    19.0\n",
            "17    39.0\n",
            "18    35.0\n",
            "19    32.0\n",
            "20    39.0\n",
            "21    35.0\n",
            "22    19.0\n",
            "23    39.0\n",
            "24    13.0\n",
            "25    55.0\n",
            "26    39.0\n",
            "27    52.0\n",
            "28    39.0\n",
            "Name: Age, dtype: float64\n"
          ]
        }
      ]
    },
    {
      "cell_type": "markdown",
      "source": [
        "**Question:10 Handling Special Characters**\n",
        "\n",
        "Examine all text-based columns (e.g., Location). Are there special characters or inconsistencies that need cleaning?"
      ],
      "metadata": {
        "id": "8BPOT-2fVT91"
      }
    },
    {
      "cell_type": "code",
      "source": [
        "# Text-based columns like Location is already examined and cleaned too\n",
        "\n",
        "print(df.Location)"
      ],
      "metadata": {
        "colab": {
          "base_uri": "https://localhost:8080/"
        },
        "id": "LpRRdEvFVgsV",
        "outputId": "d586fa97-b80b-4965-feb6-17dc642a249f"
      },
      "execution_count": 65,
      "outputs": [
        {
          "output_type": "stream",
          "name": "stdout",
          "text": [
            "0         India\n",
            "1      New York\n",
            "2      New York\n",
            "3         India\n",
            "4     Australia\n",
            "5         India\n",
            "6      New York\n",
            "7     Australia\n",
            "8      New York\n",
            "9         India\n",
            "10        India\n",
            "11        India\n",
            "12        India\n",
            "13    Australia\n",
            "14    Australia\n",
            "15    Australia\n",
            "16        India\n",
            "17     New York\n",
            "18     New York\n",
            "19     New York\n",
            "20     New York\n",
            "21     New York\n",
            "22     New York\n",
            "23     New York\n",
            "24     New York\n",
            "25    Australia\n",
            "26        India\n",
            "27        India\n",
            "28    Australia\n",
            "Name: Location, dtype: object\n"
          ]
        }
      ]
    },
    {
      "cell_type": "markdown",
      "source": [
        "**Question:11 Data Integrity**\n",
        "\n",
        "Ensure data integrity by cross-referencing entries. For instance, does the Established column align with the Age column?"
      ],
      "metadata": {
        "id": "fIg2PxpeWIH4"
      }
    },
    {
      "cell_type": "code",
      "source": [
        "df"
      ],
      "metadata": {
        "colab": {
          "base_uri": "https://localhost:8080/",
          "height": 959
        },
        "id": "yvArZTKNWP7O",
        "outputId": "47eab0ee-1a6f-45ba-8eab-006c9ea38723"
      },
      "execution_count": 73,
      "outputs": [
        {
          "output_type": "execute_result",
          "data": {
            "text/plain": [
              "    Index   Age        Salary  Rating   Location Established Easy Apply  \\\n",
              "0       0  44.0   44000-99000       6      India        1999       TRUE   \n",
              "1       1  66.0   55000-66000       5   New York        2002       TRUE   \n",
              "2       2  39.0   77000-89000       0   New York     Unknown      False   \n",
              "3       3  64.0   44000-99000       5      India        1988      False   \n",
              "4       4  25.0   44000-99000       7  Australia        2002      False   \n",
              "5       5  44.0   77000-89000       2      India        1999       TRUE   \n",
              "6       6  21.0   44000-99000       1   New York     Unknown      False   \n",
              "7       7  44.0   44000-99000       0  Australia     Unknown      False   \n",
              "8       8  35.0   44000-99000       6   New York     Unknown      False   \n",
              "9       9  22.0   44000-99000       9      India     Unknown       TRUE   \n",
              "10     10  55.0   10000-49000       6      India        2008       TRUE   \n",
              "11     11  44.0   10000-49000       8      India        2009      False   \n",
              "12     12  39.0   44000-99000       1      India        1999      False   \n",
              "13     13  25.0   44000-99000       0  Australia        2019       TRUE   \n",
              "14     14  66.0   44000-99000       5  Australia        2020       TRUE   \n",
              "15     15  44.0  88000-101000       4  Australia        1999      False   \n",
              "16     16  19.0   19000-40000       5      India        1984      False   \n",
              "17     17  39.0   44000-99000       6   New York        1943       TRUE   \n",
              "18     18  35.0   44000-99000       8   New York        1954       TRUE   \n",
              "19     19  32.0   44000-99000       4   New York        1955       TRUE   \n",
              "20     20  39.0   44000-99000       7   New York        1944       TRUE   \n",
              "21     21  35.0   44000-99000       6   New York        1946      False   \n",
              "22     22  19.0   55000-66000       9   New York        1988       TRUE   \n",
              "23     23  39.0   44000-99000       3   New York        1999       TRUE   \n",
              "24     24  13.0   44000-99000       0   New York        1987      False   \n",
              "25     25  55.0   44000-99000       1  Australia        1980       TRUE   \n",
              "26     26  39.0   55000-66000       5      India        1934       TRUE   \n",
              "27     27  52.0   44000-99000       6      India        1935      False   \n",
              "28     28  39.0   39000-88000       4  Australia        1932      False   \n",
              "\n",
              "    Salary_mean  \n",
              "0       71500.0  \n",
              "1       60500.0  \n",
              "2       83000.0  \n",
              "3       71500.0  \n",
              "4       71500.0  \n",
              "5       83000.0  \n",
              "6       71500.0  \n",
              "7       71500.0  \n",
              "8       71500.0  \n",
              "9       71500.0  \n",
              "10      29500.0  \n",
              "11      29500.0  \n",
              "12      71500.0  \n",
              "13      71500.0  \n",
              "14      71500.0  \n",
              "15      94500.0  \n",
              "16      29500.0  \n",
              "17      71500.0  \n",
              "18      71500.0  \n",
              "19      71500.0  \n",
              "20      71500.0  \n",
              "21      71500.0  \n",
              "22      60500.0  \n",
              "23      71500.0  \n",
              "24      71500.0  \n",
              "25      71500.0  \n",
              "26      60500.0  \n",
              "27      71500.0  \n",
              "28      63500.0  "
            ],
            "text/html": [
              "\n",
              "  <div id=\"df-aa610514-b2cb-40cb-9b79-e0bca9953586\" class=\"colab-df-container\">\n",
              "    <div>\n",
              "<style scoped>\n",
              "    .dataframe tbody tr th:only-of-type {\n",
              "        vertical-align: middle;\n",
              "    }\n",
              "\n",
              "    .dataframe tbody tr th {\n",
              "        vertical-align: top;\n",
              "    }\n",
              "\n",
              "    .dataframe thead th {\n",
              "        text-align: right;\n",
              "    }\n",
              "</style>\n",
              "<table border=\"1\" class=\"dataframe\">\n",
              "  <thead>\n",
              "    <tr style=\"text-align: right;\">\n",
              "      <th></th>\n",
              "      <th>Index</th>\n",
              "      <th>Age</th>\n",
              "      <th>Salary</th>\n",
              "      <th>Rating</th>\n",
              "      <th>Location</th>\n",
              "      <th>Established</th>\n",
              "      <th>Easy Apply</th>\n",
              "      <th>Salary_mean</th>\n",
              "    </tr>\n",
              "  </thead>\n",
              "  <tbody>\n",
              "    <tr>\n",
              "      <th>0</th>\n",
              "      <td>0</td>\n",
              "      <td>44.0</td>\n",
              "      <td>44000-99000</td>\n",
              "      <td>6</td>\n",
              "      <td>India</td>\n",
              "      <td>1999</td>\n",
              "      <td>TRUE</td>\n",
              "      <td>71500.0</td>\n",
              "    </tr>\n",
              "    <tr>\n",
              "      <th>1</th>\n",
              "      <td>1</td>\n",
              "      <td>66.0</td>\n",
              "      <td>55000-66000</td>\n",
              "      <td>5</td>\n",
              "      <td>New York</td>\n",
              "      <td>2002</td>\n",
              "      <td>TRUE</td>\n",
              "      <td>60500.0</td>\n",
              "    </tr>\n",
              "    <tr>\n",
              "      <th>2</th>\n",
              "      <td>2</td>\n",
              "      <td>39.0</td>\n",
              "      <td>77000-89000</td>\n",
              "      <td>0</td>\n",
              "      <td>New York</td>\n",
              "      <td>Unknown</td>\n",
              "      <td>False</td>\n",
              "      <td>83000.0</td>\n",
              "    </tr>\n",
              "    <tr>\n",
              "      <th>3</th>\n",
              "      <td>3</td>\n",
              "      <td>64.0</td>\n",
              "      <td>44000-99000</td>\n",
              "      <td>5</td>\n",
              "      <td>India</td>\n",
              "      <td>1988</td>\n",
              "      <td>False</td>\n",
              "      <td>71500.0</td>\n",
              "    </tr>\n",
              "    <tr>\n",
              "      <th>4</th>\n",
              "      <td>4</td>\n",
              "      <td>25.0</td>\n",
              "      <td>44000-99000</td>\n",
              "      <td>7</td>\n",
              "      <td>Australia</td>\n",
              "      <td>2002</td>\n",
              "      <td>False</td>\n",
              "      <td>71500.0</td>\n",
              "    </tr>\n",
              "    <tr>\n",
              "      <th>5</th>\n",
              "      <td>5</td>\n",
              "      <td>44.0</td>\n",
              "      <td>77000-89000</td>\n",
              "      <td>2</td>\n",
              "      <td>India</td>\n",
              "      <td>1999</td>\n",
              "      <td>TRUE</td>\n",
              "      <td>83000.0</td>\n",
              "    </tr>\n",
              "    <tr>\n",
              "      <th>6</th>\n",
              "      <td>6</td>\n",
              "      <td>21.0</td>\n",
              "      <td>44000-99000</td>\n",
              "      <td>1</td>\n",
              "      <td>New York</td>\n",
              "      <td>Unknown</td>\n",
              "      <td>False</td>\n",
              "      <td>71500.0</td>\n",
              "    </tr>\n",
              "    <tr>\n",
              "      <th>7</th>\n",
              "      <td>7</td>\n",
              "      <td>44.0</td>\n",
              "      <td>44000-99000</td>\n",
              "      <td>0</td>\n",
              "      <td>Australia</td>\n",
              "      <td>Unknown</td>\n",
              "      <td>False</td>\n",
              "      <td>71500.0</td>\n",
              "    </tr>\n",
              "    <tr>\n",
              "      <th>8</th>\n",
              "      <td>8</td>\n",
              "      <td>35.0</td>\n",
              "      <td>44000-99000</td>\n",
              "      <td>6</td>\n",
              "      <td>New York</td>\n",
              "      <td>Unknown</td>\n",
              "      <td>False</td>\n",
              "      <td>71500.0</td>\n",
              "    </tr>\n",
              "    <tr>\n",
              "      <th>9</th>\n",
              "      <td>9</td>\n",
              "      <td>22.0</td>\n",
              "      <td>44000-99000</td>\n",
              "      <td>9</td>\n",
              "      <td>India</td>\n",
              "      <td>Unknown</td>\n",
              "      <td>TRUE</td>\n",
              "      <td>71500.0</td>\n",
              "    </tr>\n",
              "    <tr>\n",
              "      <th>10</th>\n",
              "      <td>10</td>\n",
              "      <td>55.0</td>\n",
              "      <td>10000-49000</td>\n",
              "      <td>6</td>\n",
              "      <td>India</td>\n",
              "      <td>2008</td>\n",
              "      <td>TRUE</td>\n",
              "      <td>29500.0</td>\n",
              "    </tr>\n",
              "    <tr>\n",
              "      <th>11</th>\n",
              "      <td>11</td>\n",
              "      <td>44.0</td>\n",
              "      <td>10000-49000</td>\n",
              "      <td>8</td>\n",
              "      <td>India</td>\n",
              "      <td>2009</td>\n",
              "      <td>False</td>\n",
              "      <td>29500.0</td>\n",
              "    </tr>\n",
              "    <tr>\n",
              "      <th>12</th>\n",
              "      <td>12</td>\n",
              "      <td>39.0</td>\n",
              "      <td>44000-99000</td>\n",
              "      <td>1</td>\n",
              "      <td>India</td>\n",
              "      <td>1999</td>\n",
              "      <td>False</td>\n",
              "      <td>71500.0</td>\n",
              "    </tr>\n",
              "    <tr>\n",
              "      <th>13</th>\n",
              "      <td>13</td>\n",
              "      <td>25.0</td>\n",
              "      <td>44000-99000</td>\n",
              "      <td>0</td>\n",
              "      <td>Australia</td>\n",
              "      <td>2019</td>\n",
              "      <td>TRUE</td>\n",
              "      <td>71500.0</td>\n",
              "    </tr>\n",
              "    <tr>\n",
              "      <th>14</th>\n",
              "      <td>14</td>\n",
              "      <td>66.0</td>\n",
              "      <td>44000-99000</td>\n",
              "      <td>5</td>\n",
              "      <td>Australia</td>\n",
              "      <td>2020</td>\n",
              "      <td>TRUE</td>\n",
              "      <td>71500.0</td>\n",
              "    </tr>\n",
              "    <tr>\n",
              "      <th>15</th>\n",
              "      <td>15</td>\n",
              "      <td>44.0</td>\n",
              "      <td>88000-101000</td>\n",
              "      <td>4</td>\n",
              "      <td>Australia</td>\n",
              "      <td>1999</td>\n",
              "      <td>False</td>\n",
              "      <td>94500.0</td>\n",
              "    </tr>\n",
              "    <tr>\n",
              "      <th>16</th>\n",
              "      <td>16</td>\n",
              "      <td>19.0</td>\n",
              "      <td>19000-40000</td>\n",
              "      <td>5</td>\n",
              "      <td>India</td>\n",
              "      <td>1984</td>\n",
              "      <td>False</td>\n",
              "      <td>29500.0</td>\n",
              "    </tr>\n",
              "    <tr>\n",
              "      <th>17</th>\n",
              "      <td>17</td>\n",
              "      <td>39.0</td>\n",
              "      <td>44000-99000</td>\n",
              "      <td>6</td>\n",
              "      <td>New York</td>\n",
              "      <td>1943</td>\n",
              "      <td>TRUE</td>\n",
              "      <td>71500.0</td>\n",
              "    </tr>\n",
              "    <tr>\n",
              "      <th>18</th>\n",
              "      <td>18</td>\n",
              "      <td>35.0</td>\n",
              "      <td>44000-99000</td>\n",
              "      <td>8</td>\n",
              "      <td>New York</td>\n",
              "      <td>1954</td>\n",
              "      <td>TRUE</td>\n",
              "      <td>71500.0</td>\n",
              "    </tr>\n",
              "    <tr>\n",
              "      <th>19</th>\n",
              "      <td>19</td>\n",
              "      <td>32.0</td>\n",
              "      <td>44000-99000</td>\n",
              "      <td>4</td>\n",
              "      <td>New York</td>\n",
              "      <td>1955</td>\n",
              "      <td>TRUE</td>\n",
              "      <td>71500.0</td>\n",
              "    </tr>\n",
              "    <tr>\n",
              "      <th>20</th>\n",
              "      <td>20</td>\n",
              "      <td>39.0</td>\n",
              "      <td>44000-99000</td>\n",
              "      <td>7</td>\n",
              "      <td>New York</td>\n",
              "      <td>1944</td>\n",
              "      <td>TRUE</td>\n",
              "      <td>71500.0</td>\n",
              "    </tr>\n",
              "    <tr>\n",
              "      <th>21</th>\n",
              "      <td>21</td>\n",
              "      <td>35.0</td>\n",
              "      <td>44000-99000</td>\n",
              "      <td>6</td>\n",
              "      <td>New York</td>\n",
              "      <td>1946</td>\n",
              "      <td>False</td>\n",
              "      <td>71500.0</td>\n",
              "    </tr>\n",
              "    <tr>\n",
              "      <th>22</th>\n",
              "      <td>22</td>\n",
              "      <td>19.0</td>\n",
              "      <td>55000-66000</td>\n",
              "      <td>9</td>\n",
              "      <td>New York</td>\n",
              "      <td>1988</td>\n",
              "      <td>TRUE</td>\n",
              "      <td>60500.0</td>\n",
              "    </tr>\n",
              "    <tr>\n",
              "      <th>23</th>\n",
              "      <td>23</td>\n",
              "      <td>39.0</td>\n",
              "      <td>44000-99000</td>\n",
              "      <td>3</td>\n",
              "      <td>New York</td>\n",
              "      <td>1999</td>\n",
              "      <td>TRUE</td>\n",
              "      <td>71500.0</td>\n",
              "    </tr>\n",
              "    <tr>\n",
              "      <th>24</th>\n",
              "      <td>24</td>\n",
              "      <td>13.0</td>\n",
              "      <td>44000-99000</td>\n",
              "      <td>0</td>\n",
              "      <td>New York</td>\n",
              "      <td>1987</td>\n",
              "      <td>False</td>\n",
              "      <td>71500.0</td>\n",
              "    </tr>\n",
              "    <tr>\n",
              "      <th>25</th>\n",
              "      <td>25</td>\n",
              "      <td>55.0</td>\n",
              "      <td>44000-99000</td>\n",
              "      <td>1</td>\n",
              "      <td>Australia</td>\n",
              "      <td>1980</td>\n",
              "      <td>TRUE</td>\n",
              "      <td>71500.0</td>\n",
              "    </tr>\n",
              "    <tr>\n",
              "      <th>26</th>\n",
              "      <td>26</td>\n",
              "      <td>39.0</td>\n",
              "      <td>55000-66000</td>\n",
              "      <td>5</td>\n",
              "      <td>India</td>\n",
              "      <td>1934</td>\n",
              "      <td>TRUE</td>\n",
              "      <td>60500.0</td>\n",
              "    </tr>\n",
              "    <tr>\n",
              "      <th>27</th>\n",
              "      <td>27</td>\n",
              "      <td>52.0</td>\n",
              "      <td>44000-99000</td>\n",
              "      <td>6</td>\n",
              "      <td>India</td>\n",
              "      <td>1935</td>\n",
              "      <td>False</td>\n",
              "      <td>71500.0</td>\n",
              "    </tr>\n",
              "    <tr>\n",
              "      <th>28</th>\n",
              "      <td>28</td>\n",
              "      <td>39.0</td>\n",
              "      <td>39000-88000</td>\n",
              "      <td>4</td>\n",
              "      <td>Australia</td>\n",
              "      <td>1932</td>\n",
              "      <td>False</td>\n",
              "      <td>63500.0</td>\n",
              "    </tr>\n",
              "  </tbody>\n",
              "</table>\n",
              "</div>\n",
              "    <div class=\"colab-df-buttons\">\n",
              "\n",
              "  <div class=\"colab-df-container\">\n",
              "    <button class=\"colab-df-convert\" onclick=\"convertToInteractive('df-aa610514-b2cb-40cb-9b79-e0bca9953586')\"\n",
              "            title=\"Convert this dataframe to an interactive table.\"\n",
              "            style=\"display:none;\">\n",
              "\n",
              "  <svg xmlns=\"http://www.w3.org/2000/svg\" height=\"24px\" viewBox=\"0 -960 960 960\">\n",
              "    <path d=\"M120-120v-720h720v720H120Zm60-500h600v-160H180v160Zm220 220h160v-160H400v160Zm0 220h160v-160H400v160ZM180-400h160v-160H180v160Zm440 0h160v-160H620v160ZM180-180h160v-160H180v160Zm440 0h160v-160H620v160Z\"/>\n",
              "  </svg>\n",
              "    </button>\n",
              "\n",
              "  <style>\n",
              "    .colab-df-container {\n",
              "      display:flex;\n",
              "      gap: 12px;\n",
              "    }\n",
              "\n",
              "    .colab-df-convert {\n",
              "      background-color: #E8F0FE;\n",
              "      border: none;\n",
              "      border-radius: 50%;\n",
              "      cursor: pointer;\n",
              "      display: none;\n",
              "      fill: #1967D2;\n",
              "      height: 32px;\n",
              "      padding: 0 0 0 0;\n",
              "      width: 32px;\n",
              "    }\n",
              "\n",
              "    .colab-df-convert:hover {\n",
              "      background-color: #E2EBFA;\n",
              "      box-shadow: 0px 1px 2px rgba(60, 64, 67, 0.3), 0px 1px 3px 1px rgba(60, 64, 67, 0.15);\n",
              "      fill: #174EA6;\n",
              "    }\n",
              "\n",
              "    .colab-df-buttons div {\n",
              "      margin-bottom: 4px;\n",
              "    }\n",
              "\n",
              "    [theme=dark] .colab-df-convert {\n",
              "      background-color: #3B4455;\n",
              "      fill: #D2E3FC;\n",
              "    }\n",
              "\n",
              "    [theme=dark] .colab-df-convert:hover {\n",
              "      background-color: #434B5C;\n",
              "      box-shadow: 0px 1px 3px 1px rgba(0, 0, 0, 0.15);\n",
              "      filter: drop-shadow(0px 1px 2px rgba(0, 0, 0, 0.3));\n",
              "      fill: #FFFFFF;\n",
              "    }\n",
              "  </style>\n",
              "\n",
              "    <script>\n",
              "      const buttonEl =\n",
              "        document.querySelector('#df-aa610514-b2cb-40cb-9b79-e0bca9953586 button.colab-df-convert');\n",
              "      buttonEl.style.display =\n",
              "        google.colab.kernel.accessAllowed ? 'block' : 'none';\n",
              "\n",
              "      async function convertToInteractive(key) {\n",
              "        const element = document.querySelector('#df-aa610514-b2cb-40cb-9b79-e0bca9953586');\n",
              "        const dataTable =\n",
              "          await google.colab.kernel.invokeFunction('convertToInteractive',\n",
              "                                                    [key], {});\n",
              "        if (!dataTable) return;\n",
              "\n",
              "        const docLinkHtml = 'Like what you see? Visit the ' +\n",
              "          '<a target=\"_blank\" href=https://colab.research.google.com/notebooks/data_table.ipynb>data table notebook</a>'\n",
              "          + ' to learn more about interactive tables.';\n",
              "        element.innerHTML = '';\n",
              "        dataTable['output_type'] = 'display_data';\n",
              "        await google.colab.output.renderOutput(dataTable, element);\n",
              "        const docLink = document.createElement('div');\n",
              "        docLink.innerHTML = docLinkHtml;\n",
              "        element.appendChild(docLink);\n",
              "      }\n",
              "    </script>\n",
              "  </div>\n",
              "\n",
              "\n",
              "<div id=\"df-52f760e3-4868-4dbc-b51e-1aa4b8e06c49\">\n",
              "  <button class=\"colab-df-quickchart\" onclick=\"quickchart('df-52f760e3-4868-4dbc-b51e-1aa4b8e06c49')\"\n",
              "            title=\"Suggest charts\"\n",
              "            style=\"display:none;\">\n",
              "\n",
              "<svg xmlns=\"http://www.w3.org/2000/svg\" height=\"24px\"viewBox=\"0 0 24 24\"\n",
              "     width=\"24px\">\n",
              "    <g>\n",
              "        <path d=\"M19 3H5c-1.1 0-2 .9-2 2v14c0 1.1.9 2 2 2h14c1.1 0 2-.9 2-2V5c0-1.1-.9-2-2-2zM9 17H7v-7h2v7zm4 0h-2V7h2v10zm4 0h-2v-4h2v4z\"/>\n",
              "    </g>\n",
              "</svg>\n",
              "  </button>\n",
              "\n",
              "<style>\n",
              "  .colab-df-quickchart {\n",
              "      --bg-color: #E8F0FE;\n",
              "      --fill-color: #1967D2;\n",
              "      --hover-bg-color: #E2EBFA;\n",
              "      --hover-fill-color: #174EA6;\n",
              "      --disabled-fill-color: #AAA;\n",
              "      --disabled-bg-color: #DDD;\n",
              "  }\n",
              "\n",
              "  [theme=dark] .colab-df-quickchart {\n",
              "      --bg-color: #3B4455;\n",
              "      --fill-color: #D2E3FC;\n",
              "      --hover-bg-color: #434B5C;\n",
              "      --hover-fill-color: #FFFFFF;\n",
              "      --disabled-bg-color: #3B4455;\n",
              "      --disabled-fill-color: #666;\n",
              "  }\n",
              "\n",
              "  .colab-df-quickchart {\n",
              "    background-color: var(--bg-color);\n",
              "    border: none;\n",
              "    border-radius: 50%;\n",
              "    cursor: pointer;\n",
              "    display: none;\n",
              "    fill: var(--fill-color);\n",
              "    height: 32px;\n",
              "    padding: 0;\n",
              "    width: 32px;\n",
              "  }\n",
              "\n",
              "  .colab-df-quickchart:hover {\n",
              "    background-color: var(--hover-bg-color);\n",
              "    box-shadow: 0 1px 2px rgba(60, 64, 67, 0.3), 0 1px 3px 1px rgba(60, 64, 67, 0.15);\n",
              "    fill: var(--button-hover-fill-color);\n",
              "  }\n",
              "\n",
              "  .colab-df-quickchart-complete:disabled,\n",
              "  .colab-df-quickchart-complete:disabled:hover {\n",
              "    background-color: var(--disabled-bg-color);\n",
              "    fill: var(--disabled-fill-color);\n",
              "    box-shadow: none;\n",
              "  }\n",
              "\n",
              "  .colab-df-spinner {\n",
              "    border: 2px solid var(--fill-color);\n",
              "    border-color: transparent;\n",
              "    border-bottom-color: var(--fill-color);\n",
              "    animation:\n",
              "      spin 1s steps(1) infinite;\n",
              "  }\n",
              "\n",
              "  @keyframes spin {\n",
              "    0% {\n",
              "      border-color: transparent;\n",
              "      border-bottom-color: var(--fill-color);\n",
              "      border-left-color: var(--fill-color);\n",
              "    }\n",
              "    20% {\n",
              "      border-color: transparent;\n",
              "      border-left-color: var(--fill-color);\n",
              "      border-top-color: var(--fill-color);\n",
              "    }\n",
              "    30% {\n",
              "      border-color: transparent;\n",
              "      border-left-color: var(--fill-color);\n",
              "      border-top-color: var(--fill-color);\n",
              "      border-right-color: var(--fill-color);\n",
              "    }\n",
              "    40% {\n",
              "      border-color: transparent;\n",
              "      border-right-color: var(--fill-color);\n",
              "      border-top-color: var(--fill-color);\n",
              "    }\n",
              "    60% {\n",
              "      border-color: transparent;\n",
              "      border-right-color: var(--fill-color);\n",
              "    }\n",
              "    80% {\n",
              "      border-color: transparent;\n",
              "      border-right-color: var(--fill-color);\n",
              "      border-bottom-color: var(--fill-color);\n",
              "    }\n",
              "    90% {\n",
              "      border-color: transparent;\n",
              "      border-bottom-color: var(--fill-color);\n",
              "    }\n",
              "  }\n",
              "</style>\n",
              "\n",
              "  <script>\n",
              "    async function quickchart(key) {\n",
              "      const quickchartButtonEl =\n",
              "        document.querySelector('#' + key + ' button');\n",
              "      quickchartButtonEl.disabled = true;  // To prevent multiple clicks.\n",
              "      quickchartButtonEl.classList.add('colab-df-spinner');\n",
              "      try {\n",
              "        const charts = await google.colab.kernel.invokeFunction(\n",
              "            'suggestCharts', [key], {});\n",
              "      } catch (error) {\n",
              "        console.error('Error during call to suggestCharts:', error);\n",
              "      }\n",
              "      quickchartButtonEl.classList.remove('colab-df-spinner');\n",
              "      quickchartButtonEl.classList.add('colab-df-quickchart-complete');\n",
              "    }\n",
              "    (() => {\n",
              "      let quickchartButtonEl =\n",
              "        document.querySelector('#df-52f760e3-4868-4dbc-b51e-1aa4b8e06c49 button');\n",
              "      quickchartButtonEl.style.display =\n",
              "        google.colab.kernel.accessAllowed ? 'block' : 'none';\n",
              "    })();\n",
              "  </script>\n",
              "</div>\n",
              "\n",
              "  <div id=\"id_2e9d2736-f3fb-49fd-9509-10f963253ce9\">\n",
              "    <style>\n",
              "      .colab-df-generate {\n",
              "        background-color: #E8F0FE;\n",
              "        border: none;\n",
              "        border-radius: 50%;\n",
              "        cursor: pointer;\n",
              "        display: none;\n",
              "        fill: #1967D2;\n",
              "        height: 32px;\n",
              "        padding: 0 0 0 0;\n",
              "        width: 32px;\n",
              "      }\n",
              "\n",
              "      .colab-df-generate:hover {\n",
              "        background-color: #E2EBFA;\n",
              "        box-shadow: 0px 1px 2px rgba(60, 64, 67, 0.3), 0px 1px 3px 1px rgba(60, 64, 67, 0.15);\n",
              "        fill: #174EA6;\n",
              "      }\n",
              "\n",
              "      [theme=dark] .colab-df-generate {\n",
              "        background-color: #3B4455;\n",
              "        fill: #D2E3FC;\n",
              "      }\n",
              "\n",
              "      [theme=dark] .colab-df-generate:hover {\n",
              "        background-color: #434B5C;\n",
              "        box-shadow: 0px 1px 3px 1px rgba(0, 0, 0, 0.15);\n",
              "        filter: drop-shadow(0px 1px 2px rgba(0, 0, 0, 0.3));\n",
              "        fill: #FFFFFF;\n",
              "      }\n",
              "    </style>\n",
              "    <button class=\"colab-df-generate\" onclick=\"generateWithVariable('df')\"\n",
              "            title=\"Generate code using this dataframe.\"\n",
              "            style=\"display:none;\">\n",
              "\n",
              "  <svg xmlns=\"http://www.w3.org/2000/svg\" height=\"24px\"viewBox=\"0 0 24 24\"\n",
              "       width=\"24px\">\n",
              "    <path d=\"M7,19H8.4L18.45,9,17,7.55,7,17.6ZM5,21V16.75L18.45,3.32a2,2,0,0,1,2.83,0l1.4,1.43a1.91,1.91,0,0,1,.58,1.4,1.91,1.91,0,0,1-.58,1.4L9.25,21ZM18.45,9,17,7.55Zm-12,3A5.31,5.31,0,0,0,4.9,8.1,5.31,5.31,0,0,0,1,6.5,5.31,5.31,0,0,0,4.9,4.9,5.31,5.31,0,0,0,6.5,1,5.31,5.31,0,0,0,8.1,4.9,5.31,5.31,0,0,0,12,6.5,5.46,5.46,0,0,0,6.5,12Z\"/>\n",
              "  </svg>\n",
              "    </button>\n",
              "    <script>\n",
              "      (() => {\n",
              "      const buttonEl =\n",
              "        document.querySelector('#id_2e9d2736-f3fb-49fd-9509-10f963253ce9 button.colab-df-generate');\n",
              "      buttonEl.style.display =\n",
              "        google.colab.kernel.accessAllowed ? 'block' : 'none';\n",
              "\n",
              "      buttonEl.onclick = () => {\n",
              "        google.colab.notebook.generateWithVariable('df');\n",
              "      }\n",
              "      })();\n",
              "    </script>\n",
              "  </div>\n",
              "\n",
              "    </div>\n",
              "  </div>\n"
            ]
          },
          "metadata": {},
          "execution_count": 73
        }
      ]
    },
    {
      "cell_type": "markdown",
      "source": [
        "**Question:12 Easy Apply Transformation**\n",
        "\n",
        "If the Easy Apply column contains non-boolean values, how can it be transformed into a usable format?"
      ],
      "metadata": {
        "id": "NIh11E0sZ8Ft"
      }
    },
    {
      "cell_type": "code",
      "source": [
        "# Easy Apply column is already cleaned and the non-boolean values are already transformed into boolean values\n",
        "# Predicting -1 as False values\n",
        "\n",
        "print(df['Easy Apply'])"
      ],
      "metadata": {
        "colab": {
          "base_uri": "https://localhost:8080/"
        },
        "id": "9NPeW2FVaFRX",
        "outputId": "cb9b17f8-9ea7-41ab-9687-718c9293a135"
      },
      "execution_count": 76,
      "outputs": [
        {
          "output_type": "stream",
          "name": "stdout",
          "text": [
            "0      TRUE\n",
            "1      TRUE\n",
            "2     False\n",
            "3     False\n",
            "4     False\n",
            "5      TRUE\n",
            "6     False\n",
            "7     False\n",
            "8     False\n",
            "9      TRUE\n",
            "10     TRUE\n",
            "11    False\n",
            "12    False\n",
            "13     TRUE\n",
            "14     TRUE\n",
            "15    False\n",
            "16    False\n",
            "17     TRUE\n",
            "18     TRUE\n",
            "19     TRUE\n",
            "20     TRUE\n",
            "21    False\n",
            "22     TRUE\n",
            "23     TRUE\n",
            "24    False\n",
            "25     TRUE\n",
            "26     TRUE\n",
            "27    False\n",
            "28    False\n",
            "Name: Easy Apply, dtype: object\n"
          ]
        }
      ]
    },
    {
      "cell_type": "markdown",
      "source": [
        "**Question:13 Location Accuracy**\n",
        "\n",
        "Assess the accuracy of location entries. Are there misspelled or ambiguous locations that require correction?"
      ],
      "metadata": {
        "id": "4HSPFLBXamlk"
      }
    },
    {
      "cell_type": "code",
      "source": [
        "# Location entries are already cleaned and short form for country name is already been removed to avoid any inconsistency\n",
        "\n",
        "print(df.Location)"
      ],
      "metadata": {
        "colab": {
          "base_uri": "https://localhost:8080/"
        },
        "id": "-M0jeb2Qa_av",
        "outputId": "f150f74a-ead0-439a-b8f9-dea2eb996f14"
      },
      "execution_count": 78,
      "outputs": [
        {
          "output_type": "stream",
          "name": "stdout",
          "text": [
            "0         India\n",
            "1      New York\n",
            "2      New York\n",
            "3         India\n",
            "4     Australia\n",
            "5         India\n",
            "6      New York\n",
            "7     Australia\n",
            "8      New York\n",
            "9         India\n",
            "10        India\n",
            "11        India\n",
            "12        India\n",
            "13    Australia\n",
            "14    Australia\n",
            "15    Australia\n",
            "16        India\n",
            "17     New York\n",
            "18     New York\n",
            "19     New York\n",
            "20     New York\n",
            "21     New York\n",
            "22     New York\n",
            "23     New York\n",
            "24     New York\n",
            "25    Australia\n",
            "26        India\n",
            "27        India\n",
            "28    Australia\n",
            "Name: Location, dtype: object\n"
          ]
        }
      ]
    },
    {
      "cell_type": "markdown",
      "source": [
        "**Question:14 Handling Categorical Data**\n",
        "\n",
        "For categorical indicators, consider encoding or transforming them into a format suitable for analysis."
      ],
      "metadata": {
        "id": "14PGsV6Tb-Yg"
      }
    },
    {
      "cell_type": "code",
      "source": [
        "# All categorical data are cleaned as of now\n",
        "\n",
        "print(df.dtypes)"
      ],
      "metadata": {
        "colab": {
          "base_uri": "https://localhost:8080/"
        },
        "id": "ucHTR32ScOjO",
        "outputId": "bbd59077-ceb8-4a66-9916-f9db076da116"
      },
      "execution_count": 81,
      "outputs": [
        {
          "output_type": "stream",
          "name": "stdout",
          "text": [
            "Index            int64\n",
            "Age            float64\n",
            "Salary          object\n",
            "Rating           int64\n",
            "Location        object\n",
            "Established     object\n",
            "Easy Apply      object\n",
            "Salary_mean    float64\n",
            "dtype: object\n"
          ]
        }
      ]
    },
    {
      "cell_type": "markdown",
      "source": [
        "**Question:15 Consitent Rating Scale**\n",
        "\n",
        "Ensure a consistent rating scale in the Rating column. Should it be normalized or adjusted for uniform analysis?"
      ],
      "metadata": {
        "id": "YiyDkJWIcrWg"
      }
    },
    {
      "cell_type": "code",
      "source": [
        "# Already been normalized on a scale of 0 to 10 for uniform analysis\n",
        "\n",
        "print(df.Rating)"
      ],
      "metadata": {
        "colab": {
          "base_uri": "https://localhost:8080/"
        },
        "id": "ozayodCec3PW",
        "outputId": "3a403d95-6145-4332-d0a4-44f2c70601e3"
      },
      "execution_count": 82,
      "outputs": [
        {
          "output_type": "stream",
          "name": "stdout",
          "text": [
            "0     6\n",
            "1     5\n",
            "2     0\n",
            "3     5\n",
            "4     7\n",
            "5     2\n",
            "6     1\n",
            "7     0\n",
            "8     6\n",
            "9     9\n",
            "10    6\n",
            "11    8\n",
            "12    1\n",
            "13    0\n",
            "14    5\n",
            "15    4\n",
            "16    5\n",
            "17    6\n",
            "18    8\n",
            "19    4\n",
            "20    7\n",
            "21    6\n",
            "22    9\n",
            "23    3\n",
            "24    0\n",
            "25    1\n",
            "26    5\n",
            "27    6\n",
            "28    4\n",
            "Name: Rating, dtype: int64\n"
          ]
        }
      ]
    }
  ]
}